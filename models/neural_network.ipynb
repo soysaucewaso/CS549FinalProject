{
 "cells": [
  {
   "cell_type": "code",
   "execution_count": 1,
   "id": "89c080a8",
   "metadata": {},
   "outputs": [],
   "source": [
    "#import packages\n",
    "import numpy as np\n",
    "import pandas as pd\n",
    "from sklearn.preprocessing import OneHotEncoder\n",
    "import matplotlib.pyplot as plt\n",
    "from sklearn.metrics import accuracy_score, precision_score, recall_score, confusion_matrix, precision_recall_curve\n",
    "\n",
    "np.random.seed(1)"
   ]
  },
  {
   "cell_type": "code",
   "execution_count": 6,
   "id": "46c0dc1f",
   "metadata": {},
   "outputs": [
    {
     "name": "stdout",
     "output_type": "stream",
     "text": [
      "Train shape: (122, 4898431) (1, 4898431)\n",
      "Test shape: (122, 311029) (1, 311029)\n"
     ]
    }
   ],
   "source": [
    "\n",
    "#load dataset\n",
    "keys = ['duration', 'protocol_type', 'service', 'flag', 'src_bytes', 'dst_bytes', 'land', 'wrong_fragment', 'urgent', 'hot', 'num_failed_logins', 'logged_in', 'num_compromised', 'root_shell', 'su_attempted', 'num_root', 'num_file_creations', 'num_shells', 'num_access_files', 'num_outbound_cmds', 'is_host_login', 'is_guest_login', 'count', 'srv_count', 'serror_rate', 'srv_serror_rate', 'rerror_rate', 'srv_rerror_rate', 'same_srv_rate', 'diff_srv_rate', 'srv_diff_host_rate', 'dst_host_count', 'dst_host_srv_count', 'dst_host_same_srv_rate', 'dst_host_diff_srv_rate', 'dst_host_same_src_port_rate', 'dst_host_srv_diff_host_rate', 'dst_host_serror_rate', 'dst_host_srv_serror_rate', 'dst_host_rerror_rate', 'dst_host_srv_rerror_rate', 'label.']\n",
    "train = pd.read_csv(\"C:\\\\Users\\\\asusc\\\\Downloads\\\\cs549 final\\\\kddcup.data.gz\", names=keys, compression='gzip')\n",
    "test = pd.read_csv(\"C:\\\\Users\\\\asusc\\\\Downloads\\\\cs549 final\\\\corrected.gz\", names=keys, compression='gzip')\n",
    "\n",
    "#one-hot preprocessing (method 1)\n",
    "def preprocess_df(df):\n",
    "    X = df.iloc[:, :-1]\n",
    "    y = df.iloc[:, -1]\n",
    "    one_hot_columns = ['protocol_type', 'service', 'flag']\n",
    "    X = pd.get_dummies(X, columns=one_hot_columns)\n",
    "    y = np.array([0 if label == 'normal.' else 1 for label in y])\n",
    "    return X, y\n",
    "\n",
    "#preprocess the data\n",
    "X_train, y_train = preprocess_df(train)\n",
    "X_test, y_test = preprocess_df(test)\n",
    "\n",
    "X_test = X_test.reindex(columns=X_train.columns, fill_value=0) #formats train columns to follow test, fills in 0 when empty\n",
    "\n",
    "#normalization preprocessing (method 2)\n",
    "X_train = (X_train - X_train.mean()) / (X_train.std() + 1e-6)\n",
    "X_test = (X_test - X_test.mean()) / (X_test.std() + 1e-6)\n",
    "\n",
    "#converts to numpy array and formats for processing\n",
    "X_train = X_train.to_numpy().T\n",
    "X_test = X_test.to_numpy().T\n",
    "y_train = y_train.reshape(1, -1)\n",
    "y_test = y_test.reshape(1, -1)\n",
    "\n",
    "print(\"Train shape:\", X_train.shape, y_train.shape)\n",
    "print(\"Test shape:\", X_test.shape, y_test.shape)"
   ]
  },
  {
   "cell_type": "code",
   "execution_count": 7,
   "id": "2d18f078",
   "metadata": {},
   "outputs": [],
   "source": [
    "#sigmoid activation function for forward prop\n",
    "def sigmoid(Z):\n",
    "    return 1 / (1 + np.exp(-Z))\n",
    "\n",
    "#derivative of sigmoid for back prop\n",
    "def sigmoid_derivative(A):\n",
    "    return A * (1 - A)\n",
    "\n",
    "#initialize weights and biasies \n",
    "def init_params(n_x, n_h, n_y):\n",
    "    W1 = np.random.randn(n_h, n_x) * 0.01\n",
    "    b1 = np.zeros((n_h, 1))\n",
    "    W2 = np.random.randn(n_y, n_h) * 0.01\n",
    "    b2 = np.zeros((n_y, 1))\n",
    "    return {'W1': W1, 'b1': b1, 'W2': W2, 'b2': b2}"
   ]
  },
  {
   "cell_type": "code",
   "execution_count": 8,
   "id": "554c19f4",
   "metadata": {},
   "outputs": [],
   "source": [
    "#simple 2 layer forward prop with tanh and sigmoid\n",
    "def forward_prop(X, params):\n",
    "    W1, b1, W2, b2 = params['W1'], params['b1'], params['W2'], params['b2']\n",
    "    Z1 = np.dot(W1, X) + b1\n",
    "    A1 = np.tanh(Z1)\n",
    "    Z2 = np.dot(W2, A1) + b2\n",
    "    A2 = sigmoid(Z2)\n",
    "    cache = {'Z1': Z1, 'A1': A1, 'Z2': Z2, 'A2': A2}\n",
    "    return A2, cache\n"
   ]
  },
  {
   "cell_type": "code",
   "execution_count": 9,
   "id": "49c2355e",
   "metadata": {},
   "outputs": [],
   "source": [
    "#simple back prop, calculates gradient descent, updates weights with derivative of tanh and sigmoid\n",
    "def backward_prop(X, Y, params, cache):\n",
    "    m = X.shape[1]\n",
    "    W2 = params['W2']\n",
    "    A1, A2 = cache['A1'], cache['A2']\n",
    "    \n",
    "    dZ2 = A2 - Y\n",
    "    dW2 = (1/m) * np.dot(dZ2, A1.T)\n",
    "    db2 = (1/m) * np.sum(dZ2, axis=1, keepdims=True)\n",
    "    \n",
    "    dZ1 = np.dot(W2.T, dZ2) * (1 - A1**2)\n",
    "    dW1 = (1/m) * np.dot(dZ1, X.T)\n",
    "    db1 = (1/m) * np.sum(dZ1, axis=1, keepdims=True)\n",
    "    \n",
    "    grads = {'dW1': dW1, 'db1': db1, 'dW2': dW2, 'db2': db2}\n",
    "    return grads\n"
   ]
  },
  {
   "cell_type": "code",
   "execution_count": 10,
   "id": "38536b64",
   "metadata": {},
   "outputs": [],
   "source": [
    "#structures NN, runs forward prop and backprop, updates weights, and outputs loss\n",
    "def train(X, Y, n_h, iterations=1000, lr=0.1):\n",
    "    n_x = X.shape[0]\n",
    "    n_y = 1\n",
    "    params = init_params(n_x, n_h, n_y)\n",
    "    for i in range(iterations):\n",
    "        A2, cache = forward_prop(X, params)\n",
    "        grads = backward_prop(X, Y, params, cache)\n",
    "        params['W1'] -= lr * grads['dW1']\n",
    "        params['b1'] -= lr * grads['db1']\n",
    "        params['W2'] -= lr * grads['dW2']\n",
    "        params['b2'] -= lr * grads['db2']\n",
    "        if i % 100 == 0:\n",
    "            loss = -np.mean(Y * np.log(A2 + 1e-8) + (1 - Y) * np.log(1 - A2 + 1e-8))\n",
    "            print(f\"Iteration {i}, Loss: {loss:.4f}\")\n",
    "    return params\n"
   ]
  },
  {
   "cell_type": "code",
   "execution_count": 11,
   "id": "14009591",
   "metadata": {},
   "outputs": [
    {
     "name": "stdout",
     "output_type": "stream",
     "text": [
      "Iteration 0, Loss: 0.6937\n",
      "Iteration 100, Loss: 0.0104\n",
      "Accuracy: 0.9193, Precision: 0.9949, Recall: 0.9044\n",
      "Confusion Matrix: [[ 59441   1152]\n",
      " [ 23952 226484]]\n"
     ]
    },
    {
     "data": {
      "text/plain": [
       "array([[0.0410398 , 0.0410398 , 0.0410398 , ..., 0.04142645, 0.04204081,\n",
       "        0.04142645]])"
      ]
     },
     "execution_count": 11,
     "metadata": {},
     "output_type": "execute_result"
    }
   ],
   "source": [
    "#evaulates model on accuracy, precision, and recall\n",
    "def evaluate(X, Y, params, threshold=0.5):\n",
    "    A2, _ = forward_prop(X, params)\n",
    "    Y_hat = (A2 > threshold).astype(int)\n",
    "    acc = accuracy_score(Y.flatten(), Y_hat.flatten())\n",
    "    prec = precision_score(Y.flatten(), Y_hat.flatten())\n",
    "    rec = recall_score(Y.flatten(), Y_hat.flatten())\n",
    "    print(f\"Accuracy: {acc:.4f}, Precision: {prec:.4f}, Recall: {rec:.4f}\")\n",
    "    print(\"Confusion Matrix:\", confusion_matrix(Y.flatten(), Y_hat.flatten()))\n",
    "    return A2\n",
    "\n",
    "params = train(X_train, y_train, n_h=25, iterations=200, lr=0.5)\n",
    "evaluate(X_test, y_test, params)\n"
   ]
  },
  {
   "cell_type": "code",
   "execution_count": 12,
   "id": "3f667b7f",
   "metadata": {},
   "outputs": [
    {
     "name": "stdout",
     "output_type": "stream",
     "text": [
      "Accuracy: 0.9193, Precision: 0.9949, Recall: 0.9044\n",
      "Confusion Matrix: [[ 59441   1152]\n",
      " [ 23952 226484]]\n"
     ]
    },
    {
     "data": {
      "image/png": "[encoded data removed]",
      "text/plain": [
       "<Figure size 640x480 with 1 Axes>"
      ]
     },
     "metadata": {},
     "output_type": "display_data"
    }
   ],
   "source": [
    "#plots precision and recall\n",
    "probs = evaluate(X_test, y_test, params, threshold=0.5)\n",
    "precision, recall, thresholds = precision_recall_curve(y_test.flatten(), probs.flatten())\n",
    "plt.plot(thresholds, precision[:-1], label=\"Precision\")\n",
    "plt.plot(thresholds, recall[:-1], label=\"Recall\")\n",
    "plt.xlabel(\"Threshold\")\n",
    "plt.ylabel(\"Score\")\n",
    "plt.title(\"Precision-Recall vs Threshold\")\n",
    "plt.legend()\n",
    "plt.grid()\n",
    "plt.show()\n"
   ]
  }
 ],
 "metadata": {
  "kernelspec": {
   "display_name": "base",
   "language": "python",
   "name": "python3"
  },
  "language_info": {
   "codemirror_mode": {
    "name": "ipython",
    "version": 3
   },
   "file_extension": ".py",
   "mimetype": "text/x-python",
   "name": "python",
   "nbconvert_exporter": "python",
   "pygments_lexer": "ipython3",
   "version": "3.12.7"
  }
 },
 "nbformat": 4,
 "nbformat_minor": 5
}
